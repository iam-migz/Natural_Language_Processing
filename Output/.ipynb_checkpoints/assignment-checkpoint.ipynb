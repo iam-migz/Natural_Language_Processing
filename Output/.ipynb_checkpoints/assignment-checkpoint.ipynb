{
 "cells": [
  {
   "cell_type": "code",
   "execution_count": 2,
   "id": "40a24d13-3ea3-4fc3-826f-fafa310759ac",
   "metadata": {},
   "outputs": [
    {
     "name": "stdout",
     "output_type": "stream",
     "text": [
      "{'\\n': 0, 'Music': 1, 'annoying': 2, 'attitude': 3, 'audio': 4, 'background': 5, 'booster': 6, 'brain': 7, 'cancellation': 8, 'choice': 9, 'choose': 10, 'come': 11, 'comprehension': 12, 'concentrate': 13, 'concern': 14, 'consider': 15, 'day': 16, 'decrease': 17, 'difficult': 18, 'distract': 19, 'distraction': 20, 'drown': 21, 'earbud': 22, 'effect': 23, 'element': 24, 'endless': 25, 'engage': 26, 'enjoy': 27, 'environmental': 28, 'fact': 29, 'favorite': 30, 'fi': 31, 'fidelity': 32, 'flaw': 33, 'focus': 34, 'frown': 35, 'function': 36, 'genre': 37, 'good': 38, 'great': 39, 'hand': 40, 'happy': 41, 'hard': 42, 'headphone': 43, 'hear': 44, 'help': 45, 'hi': 46, 'high': 47, 'hum': 48, 'imperfect': 49, 'imperfection': 50, 'intentional': 51, 'invest': 52, 'irritable': 53, 'keep': 54, 'kick': 55, 'kind': 56, 'language': 57, 'lead': 58, 'life': 59, 'lift': 60, 'listen': 61, 'listener': 62, 'lo': 63, 'lobe': 64, 'long': 65, 'loop': 66, 'low': 67, 'lyric': 68, 'make': 69, 'mindset': 70, 'misplayed': 71, 'mood': 72, 'music': 73, 'need': 74, 'noise': 75, 'note': 76, 'obvious': 77, 'optimum': 78, 'people': 79, 'perfect': 80, 'phonographic': 81, 'play': 82, 'playlist': 83, 'popular': 84, 'positive': 85, 'possible': 86, 'predictable': 87, 'productive': 88, 'quality': 89, 'reading': 90, 'reason': 91, 'record': 92, 'relax': 93, 'reproduction': 94, 'research': 95, 'result': 96, 'reveal': 97, 'right': 98, 'say': 99, 'session': 100, 'set': 101, 'sit': 102, 'sleepy': 103, 'sound': 104, 'speak': 105, 'spirit': 106, 'start': 107, 'student': 108, 'study': 109, 'sure': 110, 'surprise': 111, 'task': 112, 'tempo': 113, 'tend': 114, 'try': 115, 'tune': 116, 'turn': 117, 'universal': 118, 'unlike': 119, 'upside': 120, 'walk': 121, 'way': 122, 'well': 123, 'wonder': 124, 'writing': 125, 'Activity': 126, 'American': 127, 'Association': 128, 'Brain': 129, 'Convention': 130, 'Debussey': 131, 'Dilla': 132, 'Doom': 133, 'Effects': 134, 'Elevates': 135, 'Fi': 136, 'Focus': 137, 'J': 138, 'Lo': 139, 'MF': 140, 'Madlib': 141, 'McGill': 142, 'Montreal': 143, 'Mood': 144, 'Mozart': 145, 'Noise': 146, 'Psychological': 147, 'Restorative': 148, 'Science': 149, 'Slower': 150, 'Spotify': 151, 'University': 152, 'YouTube': 153, 'abrasive': 154, 'academic': 155, 'access': 156, 'activity': 157, 'addition': 158, 'agitate': 159, 'anxiety': 160, 'app': 161, 'artist': 162, 'attention': 163, 'backdrop': 164, 'base': 165, 'beat': 166, 'beneficial': 167, 'benefit': 168, 'boast': 169, 'boost': 170, 'calm': 171, 'calming': 172, 'campus': 173, 'capability': 174, 'channel': 175, 'characteristic': 176, 'chemical': 177, 'classical': 178, 'coffee': 179, 'cognitive': 180, 'combat': 181, 'cortisol': 182, 'covid-19': 183, 'create': 184, 'crowded': 185, 'depression': 186, 'detrimental': 187, 'digital': 188, 'divert': 189, 'dopamine': 190, 'downtempo': 191, 'dramatically': 192, 'effective': 193, 'effectiveness': 194, 'elevate': 195, 'emotion': 196, 'energy': 197, 'enhance': 198, 'essential': 199, 'evoke': 200, 'experiment': 201, 'explore': 202, 'fast': 203, 'find': 204, 'gain': 205, 'get': 206, 'headspace': 207, 'hip': 208, 'hop': 209, 'hypnotic': 210, 'idea': 211, 'impact': 212, 'improve': 213, 'increase': 214, 'instead': 215, 'instrumental': 216, 'key': 217, 'know': 218, 'lack': 219, 'learn': 220, 'let': 221, 'level': 222, 'like': 223, 'list': 224, 'loud': 225, 'lull': 226, 'mind': 227, 'mirror': 228, 'mitigate': 229, 'modern': 230, 'motivation': 231, 'musical': 232, 'nerve': 233, 'neuron': 234, 'noisy': 235, 'offer': 236, 'option': 237, 'owe': 238, 'pandemic': 239, 'paper': 240, 'performance': 241, 'personalize': 242, 'popularity': 243, 'popularize': 244, 'post': 245, 'present': 246, 'produce': 247, 'provide': 248, 'racing': 249, 'read': 250, 'receive': 251, 'recently': 252, 'reduce': 253, 'relaxed': 254, 'relaxing': 255, 'remember': 256, 'room': 257, 'roommate': 258, 'root': 259, 'serotonin': 260, 'service': 261, 'shop': 262, 'show': 263, 'similar': 264, 'sleepless': 265, 'slow': 266, 'slumber': 267, 'solid': 268, 'soundscape': 269, 'soundtrack': 270, 'stream': 271, 'stress': 272, 'studying': 273, 'style': 274, 'styling': 275, 'taste': 276, 'therapeutic': 277, 'type': 278, 'unobtrusive': 279, 'vary': 280, 'want': 281, 'wave': 282, 'work': 283, 'worth': 284}\n"
     ]
    }
   ],
   "source": [
    "from gensim import corpora\n",
    "import spacy\n",
    "\n",
    "nlp = spacy.load('en_core_web_sm')\n",
    "\n",
    "# https://www.vaughn.edu/blog/studying-to-lo-fidelity-lo-fi-music-gets-high-marks-with-students/\n",
    "article1 = \"\"\"\n",
    "Low-fidelity music, or lo-fi, is music that is recorded with intentional imperfections, such as misplayed notes, environmental noise, low hum, or phonographic audio imperfections. Unlike hi-fidelity, or hi-fi, which is the high-quality reproduction of sound, the imperfect elements of lo-fi music are a popular choice when it comes to the positive results when studying is concerned. So, why would imperfect sound be one of the perfect genres to study to? Sit back and take a listen as you hear why. Lo-fi music helps the front lobe in our brain to focus – those flaws or low hums can also put the brain in the mindset to focus.\n",
    "Why lo-fi is a popular playlist choice\n",
    "Music speaks a universal language, so it comes as no surprise that students from all walks of life enjoy the wonder of music while studying. Some of the reasons as to why lo-fi is so popular are:\n",
    "Relaxing effect and perfect tempo to keep listeners engaged without making them sleepy\n",
    "As there are no lyrics, there are no distractions, which leads to better reading comprehension and writing\n",
    "Listeners keep lo-fi on an endless loop, keeping music predictable and not a distraction while studying\n",
    "And, if those aren’t good enough reasons to give lo-fi a try, here are some other reasons on how music can help you focus when you need it most:\n",
    "Mood booster Music can lift your spirits, even after a long, hard day. Playing your favorite tunes can be all you need to turn your frown upside down.\n",
    "Positive attitude The right kind of music can make you happy and help kick-start a study session. It’s been said that happy people tend to be more productive. In fact, people who listen to music may be happier than those who don’t.\n",
    "Drowns out distracting noises—Does the sound of background noise make you irritable? Listening to music is a great way to drown out annoying background noises and help you focus on the task at hand. If possible, consider in investing in a quality set of headphones or earbuds for optimum sound quality and noise cancellation.\n",
    "It may sound obvious, but research revealed that brain function decreases when you listen to music and sounds you don’t enjoy, making it difficult to focus and concentrate. So, be sure to choose music and sounds that make you happy.\n",
    "\"\"\"\n",
    "# https://www.bestcolleges.com/blog/lofi-music-study/\n",
    "article2 = \"\"\"\n",
    "Lo-fi music can reduce stress and enhance focus, resulting in quality study sessions.\n",
    "Lo-fi and other musical styles can help students reduce distractions while boosting brain activity.\n",
    "Students can access 24/7 lo-fi streams through various YouTube channels.\n",
    "Some lo-fi music-based apps offer personalized playlists to mirror your study needs.\n",
    "An academic paper presented at the 1994 American Psychological Association Convention made waves by popularizing the idea that music can enhance cognitive performance. And while some musical stylings lack the cognitive-enhancing capabilities of Mozart or Debussey, other, more modern styles have recently been popularized by students.\n",
    "In this post, we explore lo-fi hip-hop music and how it can enhance your studying. Keep reading to learn about this popular musical option, how it can benefit you, and where you can find it.\n",
    "What Is Lo-Fi Music?\n",
    "Lo-fi music is a type of downtempo hip-hop music known for its relaxing and hypnotic characteristics. It's a popular option for students wanting to study, as it can help the brain relax and focus.\n",
    "The genre gained popularity during the COVID-19 pandemic through digital services like YouTube and Spotify.\n",
    "Owing to its roots in artists like J Dilla, MF Doom, and Madlib, lo-fi hip-hop creates a soundscape that, similar to classical music, can enhance the effectiveness of studying. While the impact of music on studying can vary between students — and between musical styles — research shows that slower instrumental music can boost focus.\n",
    "What Are the Benefits of Lo-Fi Music?\n",
    "In addition to elevating mood and increasing brain activity, lo-fi music offers a solid list of benefits that can help you make the most of your studying. Keep reading to learn more about the benefits of lo-fi music.\n",
    "Elevates Mood\n",
    "Slower, relaxing music can improve your mood by increasing serotonin and dopamine levels. A study from Montreal's McGill University found that music listeners receive up to a 9% boost in dopamine levels. This boost in brain chemicals can enhance studying by keeping students focused and relaxed.\n",
    "Remember that musical tastes vary dramatically between students, so it's worth experimenting with various lo-fi playlists to see what works for you.\n",
    "Drowns Out Distracting Noise\n",
    "Whether studying at a coffee shop or in a crowded room on campus, finding ways to mitigate distractions while studying is essential. Lo-fi hip-hop music offers students a relaxing musical backdrop that can help drown out distractions.\n",
    "But while music can drown out a noisy roommate, the music itself shouldn't be distracting to listen to. Instead of loud, fast, and abrasive tunes, lo-fi offers an unobtrusive soundtrack that's calming enough to enhance studying while low-key enough to let students focus on the task at hand.\n",
    "Increases Brain Activity and Focus\n",
    "Science shows that various styles of music can increase brain activity and focus while enhancing mood and increasing motivation. However, other styles can have a detrimental effect on focus. Lo-fi music can evoke calming emotions, while other genres can increase stress, provide an energy boost, or otherwise agitate neurons.\n",
    "Has Calming and Restorative Effects\n",
    "Lo-fi beats boast the calming and therapeutic effects beneficial to studying. By reducing stress and anxiety-producing cortisol levels, students can focus on their studies without the nerves and emotions that divert their attention.\n",
    "Similar to how music can lull the sleepless racing mind into slumbers, students can benefit from a musical dopamine boost that can combat stress, anxiety, and even depression. Getting in the right headspace is essential to effective studying.\n",
    "\"\"\"\n",
    "\n",
    "documents = [article1, article2]\n",
    "texts = []\n",
    "for document in documents:\n",
    "    text = []\n",
    "    doc = nlp(document)\n",
    "    for w in doc:\n",
    "        if not w.is_stop and not w.is_punct and not w.like_num:\n",
    "            text.append(w.lemma_)\n",
    "    texts.append(text)\n",
    "\n",
    "dictionary = corpora.Dictionary(texts)\n",
    "print(dictionary.token2id)"
   ]
  },
  {
   "cell_type": "code",
   "execution_count": null,
   "id": "47198071-05e8-4c85-90eb-8049ac7d2fd1",
   "metadata": {},
   "outputs": [],
   "source": []
  }
 ],
 "metadata": {
  "kernelspec": {
   "display_name": "Python 3 (ipykernel)",
   "language": "python",
   "name": "python3"
  },
  "language_info": {
   "codemirror_mode": {
    "name": "ipython",
    "version": 3
   },
   "file_extension": ".py",
   "mimetype": "text/x-python",
   "name": "python",
   "nbconvert_exporter": "python",
   "pygments_lexer": "ipython3",
   "version": "3.12.1"
  }
 },
 "nbformat": 4,
 "nbformat_minor": 5
}
