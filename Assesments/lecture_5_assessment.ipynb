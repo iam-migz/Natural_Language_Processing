{
 "cells": [
  {
   "cell_type": "markdown",
   "metadata": {},
   "source": [
    "# Sentiment Analysis Assessment - Solution\n",
    "\n",
    "## Task #1: Perform vector arithmetic on your own words\n",
    "Write code that evaluates vector arithmetic on your own set of related words. The goal is to come as close to an expected word as possible. Please feel free to share success stories in the Q&A Forum for this section!"
   ]
  },
  {
   "cell_type": "code",
   "execution_count": 8,
   "metadata": {},
   "outputs": [],
   "source": [
    "# Import spaCy and load the language library. Remember to use a larger model!\n",
    "import spacy\n",
    "nlp = spacy.load('en_core_web_md')\n"
   ]
  },
  {
   "cell_type": "code",
   "execution_count": 16,
   "metadata": {},
   "outputs": [
    {
     "data": {
      "text/plain": [
       "array([-1.2632133 ,  1.8610667 , -0.74901   ,  0.4299167 ,  1.765     ,\n",
       "       -0.05789667, -0.38431668,  0.64561003,  0.9072833 ,  1.0809335 ,\n",
       "        1.8714833 ,  1.8998667 , -1.5141989 ,  2.5077    , -0.07242334,\n",
       "        0.9934034 ,  3.7926    ,  0.35410666, -1.1412334 ,  1.86194   ,\n",
       "        0.13539998, -1.9247156 , -0.74255663,  2.5860999 ,  1.7870668 ,\n",
       "       -2.34133   , -1.3800001 , -1.0185734 ,  1.7008834 , -2.6063    ,\n",
       "        1.5887667 , -1.0099467 , -0.3665767 ,  0.41565335, -1.8469334 ,\n",
       "        0.42760202, -0.9557    ,  2.0057335 , -1.0571333 ,  0.83043337,\n",
       "       -0.9467301 , -1.5796033 , -0.88854337,  1.5995334 ,  1.3559533 ,\n",
       "        1.7969762 , -1.3704833 , -4.8106003 , -1.2323533 , -0.6771243 ,\n",
       "        1.3068333 ,  0.9309001 ,  2.9220297 , -2.0681665 ,  0.91264635,\n",
       "        0.24231666,  1.8449134 , -1.6326332 , -1.34086   , -0.031293  ,\n",
       "       -1.9727932 , -0.32098332, -3.8338335 , -2.3401668 ,  2.4270833 ,\n",
       "        0.4315667 ,  1.65553   , -2.7120667 ,  0.5681304 ,  1.28451   ,\n",
       "        0.37648   ,  0.20926666, -1.9322901 ,  0.7746666 ,  1.4187403 ,\n",
       "        1.1120633 , -2.4212701 ,  3.0874135 , -0.27694467, -2.0408332 ,\n",
       "       -3.1747732 , -1.2083334 , -1.0458466 ,  1.6054667 ,  1.8118001 ,\n",
       "        1.3761667 , -1.1436766 ,  0.71446675,  1.6312    ,  0.12644   ,\n",
       "       -1.3856999 ,  0.50522006,  2.2073333 , -0.9060634 ,  1.5176    ,\n",
       "       -2.6008067 ,  0.19385667,  0.26867667,  2.9005299 ,  0.6368633 ,\n",
       "        2.2131734 ,  0.90568   ,  0.8131433 , -1.6381632 , -3.2150066 ,\n",
       "        2.2235668 ,  0.9561799 ,  0.15816657, -1.9547    , -2.1739666 ,\n",
       "        2.2310898 , -1.41962   , -0.6429667 ,  0.5156133 ,  0.7137733 ,\n",
       "        0.46556672, -2.8975868 ,  1.8397967 ,  0.54946667, -0.39036   ,\n",
       "       -0.60737664, -1.1490067 , -3.1193333 ,  0.70993   ,  1.3495766 ,\n",
       "       -2.4074733 ,  2.9717    , -1.0238767 ,  2.0070531 ,  1.3981    ,\n",
       "        0.42644   , -0.82006365,  2.6186666 , -0.6066333 ,  1.6359668 ,\n",
       "        1.6702687 , -3.1686666 ,  0.23671998,  1.9465666 , -2.3280566 ,\n",
       "       -2.6049936 , -2.42808   , -1.8029    ,  2.8149335 ,  2.3915932 ,\n",
       "        0.91646665, -3.2255335 ,  0.01059   , -0.7186334 , -1.3359    ,\n",
       "        4.0955997 , -0.08097664, -0.8210867 ,  2.0302534 ,  0.5888533 ,\n",
       "       -1.2718216 ,  2.6810665 ,  0.49206665, -0.53215003,  0.34127998,\n",
       "       -2.7310698 , -1.1126353 ,  1.1022934 ,  2.39928   , -0.42210004,\n",
       "       -0.02896334, -2.22018   ,  1.0421267 ,  1.28071   , -0.7740834 ,\n",
       "       -0.24232332,  0.19905667,  1.2496467 , -1.0314267 ,  3.0309765 ,\n",
       "       -0.09146667, -1.8701667 , -1.7416201 , -2.2338333 , -2.1193068 ,\n",
       "       -3.1132    , -1.8130134 , -0.23083329, -0.82748324,  0.3575933 ,\n",
       "       -0.5497067 ,  0.09450328,  0.51742333, -0.30080006, -0.7020333 ,\n",
       "        0.87976664,  0.68623   , -1.33207   ,  0.34980002, -0.5441666 ,\n",
       "        0.5330166 , -0.64801335,  0.86683005,  1.2427067 , -0.27511   ,\n",
       "        0.00946669, -0.30073333, -1.6395267 ,  0.51656   ,  2.3284664 ,\n",
       "        0.8325    , -2.2433732 , -0.7691834 , -2.6527    ,  1.2279167 ,\n",
       "        1.1793333 , -0.31204998, -1.0185666 , -1.0776767 , -2.2024    ,\n",
       "        0.8059433 ,  3.5138    ,  0.34468532,  0.14163701,  2.4091334 ,\n",
       "       -2.0047667 , -0.50163335, -0.9072934 ,  1.138     , -0.24980004,\n",
       "        1.5142165 , -1.4172    , -0.8644267 , -0.68451333, -0.74695665,\n",
       "        2.6933734 , -1.699     , -1.5516766 ,  2.1144898 , -0.9183333 ,\n",
       "       -1.8226932 , -1.8479667 ,  0.60231996, -3.1930435 , -0.06837001,\n",
       "       -1.33682   ,  0.84196323,  2.9749    , -0.4925433 , -0.24588002,\n",
       "        0.59613335,  0.72059995,  1.0196867 , -0.47086334,  3.0983    ,\n",
       "        2.8793335 , -1.37322   , -2.3150334 , -1.01784   , -2.11529   ,\n",
       "        0.25143337,  1.57059   , -2.1388667 , -0.6000866 ,  1.4830899 ,\n",
       "       -1.9206667 ,  1.4474331 ,  2.2844698 ,  0.37192002,  2.2719333 ,\n",
       "        0.22499335, -0.8995333 ,  0.6738834 , -0.49561   ,  2.04967   ,\n",
       "       -2.8912232 ,  0.58589995, -1.7062668 , -0.3695    , -0.64185333,\n",
       "       -1.0911499 , -0.72725326, -1.52559   , -0.9553667 ,  3.8340333 ,\n",
       "        0.6371301 , -0.7264333 ,  2.3440332 ,  0.02890666,  0.7517937 ,\n",
       "       -0.53399   , -0.12130006,  1.7455767 , -2.1215498 ,  1.2011666 ,\n",
       "        0.74434334,  0.39016333,  0.05733578, -0.1564467 , -2.9973335 ,\n",
       "       -2.1956866 ,  0.7812033 , -0.67357665, -0.5832567 ,  1.36514   ],\n",
       "      dtype=float32)"
      ]
     },
     "execution_count": 16,
     "metadata": {},
     "output_type": "execute_result"
    }
   ],
   "source": [
    "# Choose the words you wish to compare, and obtain their vectors\n",
    "doc = nlp(u'soldier medic sniper')\n",
    "doc.vector"
   ]
  },
  {
   "cell_type": "code",
   "execution_count": 17,
   "metadata": {},
   "outputs": [],
   "source": [
    "# Import spatial and define a cosine_similarity function\n",
    "from scipy import spatial\n",
    "\n",
    "cosine_similarity = lambda x, y: 1 - spatial.distance.cosine(x, y)"
   ]
  },
  {
   "cell_type": "code",
   "execution_count": 18,
   "metadata": {},
   "outputs": [],
   "source": [
    "# Write an expression for vector arithmetic\n",
    "# For example: new_vector = word1 - word2 + word3\n",
    "soldier = nlp.vocab['soldier'].vector\n",
    "medic = nlp.vocab['medic'].vector\n",
    "sniper = nlp.vocab['sniper'].vector\n",
    "\n",
    "new_vector = soldier - medic + sniper"
   ]
  },
  {
   "cell_type": "code",
   "execution_count": 19,
   "metadata": {},
   "outputs": [
    {
     "name": "stdout",
     "output_type": "stream",
     "text": [
      "['sniper', 'soldier', 'he', 'got', 'ai', 'goin', 'dare', 'na', 'gon', 'doin']\n"
     ]
    }
   ],
   "source": [
    "# List the top ten closest vectors in the vocabulary to the result of the expression above\n",
    "computed_similarities = []\n",
    "\n",
    "for word in nlp.vocab:\n",
    "    # Ignore words without vectors and mixed-case words:\n",
    "    if word.has_vector:\n",
    "        if word.is_lower:\n",
    "            if word.is_alpha:\n",
    "                similarity = cosine_similarity(new_vector, word.vector)\n",
    "                computed_similarities.append((word, similarity))\n",
    "\n",
    "computed_similarities = sorted(computed_similarities, key=lambda item: -item[1])\n",
    "\n",
    "print([w[0].text for w in computed_similarities[:10]])"
   ]
  },
  {
   "cell_type": "markdown",
   "metadata": {},
   "source": [
    "#### CHALLENGE: Write a function that takes in 3 strings, performs a-b+c arithmetic, and returns a top-ten result"
   ]
  },
  {
   "cell_type": "code",
   "execution_count": 23,
   "metadata": {},
   "outputs": [],
   "source": [
    "def vector_math(a, b, c):\n",
    "    # Get word vectors for the input words\n",
    "    a_vector = nlp.vocab[a].vector\n",
    "    b_vector = nlp.vocab[b].vector\n",
    "    c_vector = nlp.vocab[c].vector\n",
    "    \n",
    "    # Calculate the new vector\n",
    "    new_vector = a_vector - b_vector + c_vector\n",
    "    \n",
    "    # Calculate similarity between the new vector and all words in the vocabulary\n",
    "    computed_similarities = []\n",
    "    for word in nlp.vocab:\n",
    "        if word.has_vector:\n",
    "            if word.is_lower:\n",
    "                if word.is_alpha:\n",
    "                    similarity = cosine_similarity(new_vector, word.vector)\n",
    "                    computed_similarities.append((word, similarity))\n",
    "    \n",
    "    # Sort the computed similarities by similarity score\n",
    "    computed_similarities = sorted(computed_similarities, key=lambda item: -item[1])\n",
    "    \n",
    "    # Return top 10 similar words\n",
    "    return [w[0].text for w in computed_similarities[:10]]"
   ]
  },
  {
   "cell_type": "code",
   "execution_count": 22,
   "metadata": {},
   "outputs": [
    {
     "data": {
      "text/plain": [
       "['king',\n",
       " 'and',\n",
       " 'that',\n",
       " 'havin',\n",
       " 'where',\n",
       " 'she',\n",
       " 'they',\n",
       " 'woman',\n",
       " 'somethin',\n",
       " 'there']"
      ]
     },
     "execution_count": 22,
     "metadata": {},
     "output_type": "execute_result"
    }
   ],
   "source": [
    "# Test the function on known words:\n",
    "vector_math('king','man','woman')"
   ]
  },
  {
   "cell_type": "markdown",
   "metadata": {},
   "source": [
    "## Task #2: Perform VADER Sentiment Analysis on your own review\n",
    "Write code that returns a set of SentimentIntensityAnalyzer polarity scores based on your own written review."
   ]
  },
  {
   "cell_type": "code",
   "execution_count": 26,
   "metadata": {},
   "outputs": [
    {
     "name": "stderr",
     "output_type": "stream",
     "text": [
      "[nltk_data] Downloading package vader_lexicon to\n",
      "[nltk_data]     C:\\Users\\ziggy\\AppData\\Roaming\\nltk_data...\n"
     ]
    }
   ],
   "source": [
    "import nltk\n",
    "nltk.download('vader_lexicon')\n",
    "\n",
    "# Import SentimentIntensityAnalyzer and create an sid object\n",
    "from nltk.sentiment.vader import SentimentIntensityAnalyzer\n",
    "sid = SentimentIntensityAnalyzer()"
   ]
  },
  {
   "cell_type": "code",
   "execution_count": 27,
   "metadata": {},
   "outputs": [],
   "source": [
    "# Write a review as one continuous string (multiple sentences are ok)\n",
    "review = 'this movie was better than i expected'"
   ]
  },
  {
   "cell_type": "code",
   "execution_count": 28,
   "metadata": {},
   "outputs": [
    {
     "data": {
      "text/plain": [
       "{'neg': 0.0, 'neu': 0.633, 'pos': 0.367, 'compound': 0.4404}"
      ]
     },
     "execution_count": 28,
     "metadata": {},
     "output_type": "execute_result"
    }
   ],
   "source": [
    "# Obtain the sid scores for your review\n",
    "sid.polarity_scores(review)"
   ]
  },
  {
   "cell_type": "markdown",
   "metadata": {},
   "source": [
    "### CHALLENGE: Write a function that takes in a review and returns a score of \"Positive\", \"Negative\" or \"Neutral\""
   ]
  },
  {
   "cell_type": "code",
   "execution_count": 29,
   "metadata": {},
   "outputs": [],
   "source": [
    "def review_rating(string):\n",
    "    # Obtain the sentiment scores for the review\n",
    "    scores = sid.polarity_scores(string)\n",
    "    \n",
    "    # Determine the sentiment category based on the compound score\n",
    "    if scores['compound'] >= 0.05:\n",
    "        return \"Positive\"\n",
    "    elif scores['compound'] <= -0.05:\n",
    "        return \"Negative\"\n",
    "    else:\n",
    "        return \"Neutral\""
   ]
  },
  {
   "cell_type": "code",
   "execution_count": 30,
   "metadata": {},
   "outputs": [
    {
     "data": {
      "text/plain": [
       "'Positive'"
      ]
     },
     "execution_count": 30,
     "metadata": {},
     "output_type": "execute_result"
    }
   ],
   "source": [
    "# Test the function on your review above:\n",
    "review_rating(review)"
   ]
  }
 ],
 "metadata": {
  "kernelspec": {
   "display_name": "Python 3 (ipykernel)",
   "language": "python",
   "name": "python3"
  },
  "language_info": {
   "codemirror_mode": {
    "name": "ipython",
    "version": 3
   },
   "file_extension": ".py",
   "mimetype": "text/x-python",
   "name": "python",
   "nbconvert_exporter": "python",
   "pygments_lexer": "ipython3",
   "version": "3.12.1"
  }
 },
 "nbformat": 4,
 "nbformat_minor": 4
}
